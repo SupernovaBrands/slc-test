{
 "cells": [
  {
   "cell_type": "code",
   "execution_count": 1,
   "id": "6b705d28",
   "metadata": {},
   "outputs": [],
   "source": [
    "import psycopg2\n",
    "import boto3\n",
    "from botocore.exceptions import NoCredentialsError\n",
    "from datetime import datetime"
   ]
  }
 ],
 "metadata": {
  "kernelspec": {
   "display_name": "Python 3",
   "language": "python",
   "name": "python3"
  },
  "language_info": {
   "codemirror_mode": {
    "name": "ipython",
    "version": 3
   },
   "file_extension": ".py",
   "mimetype": "text/x-python",
   "name": "python",
   "nbconvert_exporter": "python",
   "pygments_lexer": "ipython3",
   "version": "3.11.9"
  }
 },
 "nbformat": 4,
 "nbformat_minor": 5
}
